import pandas as pd
import numpy as np


from datetime import datetime, timedelta


data = pd.read_csv("../data/processed/cut_off_price_with_weather_time.csv",parse_dates=["Trade_Datetime","ecmen_pulicate_time","ecmop_pulicate_time","gfsen_pulicate_time","gfsop_pulicate_time"])


data.head()


data = pd.read_csv("../data/processed/WeatherData/gfsen_weather_subclass.csv",parse_dates=['Trans_INIT_Time'])


data


data['Trans_INIT_Time'].dt.time.unique()


data.loc[data.dst_flag==1, 'Trade_Datetime'] = data[data["dst_flag"]==1]["Trade_Datetime"].apply(lambda x : x + timedelta(hours=-1))
data.loc[data.dst_flag==1, 'ecmen_pulicate_time'] = data[data["dst_flag"]==1]["ecmen_pulicate_time"].apply(lambda x : x + timedelta(hours=-1))


data.set_index('Trade_Datetime',inplace=True)

data.dropna(how='any',inplace=True)
time_point = []
st_time = datetime.strptime('6:00', '%H:%M').time()
et_time = datetime.strptime('16:00', '%H:%M').time()
time_point = [st_time, et_time]

timels = data['ecmen_pulicate_time'].dt.time.unique()
for item in timels:
    if (item >= st_time) & (item <= et_time):
        time_point.append(item)
time_point.sort()
time_point_pairs = list(zip(time_point, time_point[1:]))


time_point_pairs


first_peirod = data[['Contract_Delivery_Date', 'Vwap', 'ecmen_pulicate_time', 'dst_flag']].between_time(time_point_pairs[0][0], time_point_pairs[0][1], include_start=False)


first_peirod_grouped = first_peirod[['Contract_Delivery_Date',"Vwap"]].groupby(['Contract_Delivery_Date', pd.Grouper(freq='D')])


first_peirod["Normal_Vwap"]  = first_peirod_grouped.transform(lambda x : x/ x.values[0])


first_peirod


res = first_peirod.groupby(['Contract_Delivery_Date', pd.Grouper(freq='D')]).agg(Normal_Vwap=('Normal_Vwap', list),ecmen_pulicate_time=('ecmen_pulicate_time', 'first'),dst_flag=('dst_flag', 'first'))


res


first_peirod.index = first_peirod.index + pd.DateOffset(hours=-1)


first_peirod


first_peirod[first_peirod.dst_flag == 1].index


first_peirod






