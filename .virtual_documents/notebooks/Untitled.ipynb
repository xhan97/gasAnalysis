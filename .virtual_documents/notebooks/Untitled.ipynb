import pandas as pd
import numpy as np


import math
import os
from datetime import datetime,timedelta
import matplotlib
import matplotlib.pyplot as plt
import seaborn as sns
from scipy.stats import norm
from tslearn.clustering import TimeSeriesKMeans
from tslearn.utils import to_time_series_dataset


data = pd.read_csv("../data/processed/period/gfsen/6_16/gfsenperiod1.csv.gz",compression='gzip',parse_dates=["Trade_Datetime","gfsen_pulicate_time"],index_col=["Trade_Datetime"])


weather_data = pd.read_csv("../data/processed/WeatherData/gfsen_weather_subclass.csv", parse_dates=["Trans_INIT_Time"])


weather_data


data.head()


data["Trade_time"] = data.index.time


res = data.groupby(['Contract_Delivery_Date', pd.Grouper(freq='D')]).agg(Normal_Vwap=('Normal_Vwap', list),Trade_time=('Trade_time',list) ,gfsen_public_time=('gfsen_pulicate_time', 'first'),dst_flag=('dst_flag', 'first'))


merge_data = pd.merge(res, weather_data, how="inner",left_on='gfsen_public_time', right_on='Trans_INIT_Time',
                      suffixes=('_hdd', '_cdd'))
merge_data


def dba_fit_predict_data(n_cluster, period_data, data_name, save_model_path=None):
    seed = 13
    dba_km = TimeSeriesKMeans(n_clusters=n_cluster,
                              metric="dtw",
                              n_jobs=8,
                              max_iter_barycenter=10,
                              verbose=False,
                              n_init=2,
                              random_state=seed)
    y_pred = dba_km.fit_predict(period_data)
    if save_model_path:
        file_name = "dba_"+data_name+"_"+str(n_cluster)
        dba_km.to_pickle(os.path.join(save_model_path, file_name+".pkl"))
    return y_pred


period_data = to_time_series_dataset(res["Normal_Vwap"].values)


y_pred = dba_fit_predict_data(n_cluster=16,
                              period_data=period_data,
                              data_name="gfsenperiod1")


merge_data["label"] = y_pred


merge_data


Normal_Vwap, Trade_time, dst_flag = merge_data[merge_data["label"]==3][["Normal_Vwap","Trade_time", "dst_flag"]].values[2]


Trade_time = [item.strftime('%H:%M:%S') for item in Trade_time]


def show_time_series(period_df, label, axs_fig):
    for Normal_Vwap, Trade_time, dst_flag in period_df[period_df["label"] == label][["Normal_Vwap", "Trade_time", "dst_flag"]].values:
        color = [0.7, 0.8, 0.8]
        if dst_flag == 1:
            color = [1, 0.96, 0.56]
        Trade_time = [item.strftime('%H:%M:%S') for item in Trade_time]
        sns.lineplot(x=Trade_time, y=Normal_Vwap, color=color, ax=axs_fig)


for Normal_Vwap, Trade_time, dst_flag in merge_data[merge_data["label"]==3][["Normal_Vwap","Trade_time", "dst_flag"]].values:
    color = [0.7, 0.8, 0.8]
    if dst_flag == 1:
        color = [1, 0.96, 0.56]
    Trade_time = [item.strftime('%H:%M:%S') for item in Trade_time]
    sns.lineplot(x=Trade_time, y=Normal_Vwap, color=color)


def show_clustering(n_clusters, y_pred, period_df, file_name):
    plot_count = math.ceil(math.sqrt(n_clusters))
    fig, axs = plt.subplots(plot_count, plot_count, figsize=(20, 20))
    row_i = 0
    column_j = 0

    # len_max_index, max_index = get_max_index(period_df)
    for label in set(y_pred):
        show_time_series(period_df=period_df,label=label, axs_fig=axs[row_i, column_j])

        # assert len_max_index == len(dba_km.cluster_centers_[
        #                             label].ravel()), "time max index length error!"
        # show_cluster_center(max_index, dba_km,label=label,axs_fig=axs[row_i, column_j])
        # show_ci_box(ci_df,label=label,ax_fig=axs[row_i, column_j])

        axs[row_i, column_j].set_title(
            "Cluster "+str(row_i*plot_count+column_j))
        axs[row_i, column_j].xaxis.set_major_formatter(
            matplotlib.dates.DateFormatter("%H:%M")
        )
        column_j += 1
        if column_j % plot_count == 0:
            row_i += 1
            column_j = 0
    fig.tight_layout(pad=1.0)
    # plt.savefig(file_name+".png", dpi=200,
    #             bbox_inches="tight", orientation='landscape')


show_clustering(16,y_pred,res,"sdf")



