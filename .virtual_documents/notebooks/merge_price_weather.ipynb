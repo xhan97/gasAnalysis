import pandas as pd


import numpy as np
import os


weather_input_dir = '../data/processed/WeatherData/'


cut_off_data = pd.read_csv('../data/processed/Archive/cut_off_price.csv', parse_dates=[
            "Trade_Datetime"], index_col="Trade_Datetime")


weather_paths = []
for dirpath, subdirs, files in os.walk(weather_input_dir):
    for x in files:
        if x.endswith(".csv"):
            weather_paths.append((x[:5], os.path.join(dirpath, x)))


weather_paths


for weather_pt in weather_paths:
    cl_name = weather_pt[0]+"_pulicate_time"
    weather_data = pd.read_csv(weather_pt[1])
    cut_off_data[cl_name] = np.nan
    time_sep = weather_data["Trans_INIT_Time"].drop_duplicates(
    ).reset_index(drop=True).values
    cutoff_pair = list(zip(time_sep, time_sep[1:]))
    for pair in cutoff_pair:
        cut_off_data[cl_name].loc[pair[0]:pair[1]] = pair[0]


cut_off_data


cut_off_data.isna().sum()


weather_col_names = [ item[0] + "_pulicate_time" for item in weather_paths]
cut_off_data.dropna(how='all',subset=weather_col_names, inplace=True)


cut_off_data



