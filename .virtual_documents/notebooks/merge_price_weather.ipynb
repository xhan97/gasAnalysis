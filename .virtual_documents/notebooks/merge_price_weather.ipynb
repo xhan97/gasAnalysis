import pandas as pd


import numpy as np
import os


weather_input_dir = '../data/processed/WeatherData/'


cut_off_data = pd.read_csv('../data/processed/Archive/cut_off_price.csv', parse_dates=[
            "Trade_Datetime"], index_col="Trade_Datetime")


weather_paths = []
for dirpath, subdirs, files in os.walk(weather_input_dir):
    for x in files:
        if x.endswith(".csv"):
            weather_paths.append((x[:5], os.path.join(dirpath, x)))


weather_paths


for weather_pt in weather_paths:
    cl_name = weather_pt[0]+"_pulicate_time"
    weather_data = pd.read_csv(weather_pt[1])
    cut_off_data[cl_name] = np.nan
    time_sep = weather_data["Trans_INIT_Time"].drop_duplicates(
    ).reset_index(drop=True).values
    cutoff_pair = list(zip(time_sep, time_sep[1:]))
    for pair in cutoff_pair:
        cut_off_data[cl_name].loc[pair[0]:pair[1]] = pair[0]


cut_off_data


cut_off_data.isna().sum()


weather_col_names = [ item[0] + "_pulicate_time" for item in weather_paths]
cut_off_data.dropna(how='all',subset=weather_col_names, inplace=True)


cut_off_data


from datetime import datetime, timedelta

dst_pairs = [(datetime.strptime("2015-3-8", '%Y-%m-%d'),
              datetime.strptime("2015-11-1", '%Y-%m-%d')),
             (datetime.strptime("2016-3-13", '%Y-%m-%d'),
              datetime.strptime("2016-11-6", '%Y-%m-%d')),
             (datetime.strptime("2017-3-12", '%Y-%m-%d'),
              datetime.strptime("2017-11-5", '%Y-%m-%d')),
             (datetime.strptime("2018-3-11", '%Y-%m-%d'),
              datetime.strptime("2018-11-4", '%Y-%m-%d')),
             (datetime.strptime("2019-3-10", '%Y-%m-%d'),
              datetime.strptime("2019-11-3", '%Y-%m-%d')),
             (datetime.strptime("2020-3-8", '%Y-%m-%d'),
              datetime.strptime("2020-11-1", '%Y-%m-%d')),
             (datetime.strptime("2021-3-14", '%Y-%m-%d'),
              datetime.strptime("2021-11-7", '%Y-%m-%d'))]

cut_off_data["dst_flag"] = 0
for item in dst_pairs:
    cut_off_data["dst_flag"].loc[item[0]:item[1]] = 1


cut_off_data



