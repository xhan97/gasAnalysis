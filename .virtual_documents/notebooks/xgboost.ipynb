import pandas as pd
import numpy as np


data = pd.read_csv("../data/processed/period/ecmen/6_16/ecmenperiod2.csv.gz",compression='gzip',parse_dates=["Trade_Datetime","ecmen_pulicate_time"],index_col=["Trade_Datetime"])


weather_data = pd.read_csv("../data/processed/WeatherData/ecmen_weather_subclass.csv", parse_dates=["Trans_INIT_Time"])


data.head()


weather_data.head()


res = data.groupby(['Contract_Delivery_Date', pd.Grouper(freq='D')]).agg(ecmen_public_time=('ecmen_pulicate_time', 'first'),dst_flag=('dst_flag', 'first'), Normal_vwap=('Normal_Vwap', 'last'))


merge_data = pd.merge(res, weather_data, how="inner",left_on='ecmen_public_time', right_on='Trans_INIT_Time',
                      suffixes=('_hdd', '_cdd'))
merge_data


merge_data["Month"] = merge_data["Trans_INIT_Time"].dt.month


merge_data.drop(columns=['Trans_INIT_Time','dst_flag'],inplace=True)


merge_data


file_name = "ecmenperiod2"+".csv"
merge_data.to_csv(file_name,index=False, float_format='%.3f')
