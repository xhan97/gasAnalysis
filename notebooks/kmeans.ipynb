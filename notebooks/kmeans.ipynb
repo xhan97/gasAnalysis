{
 "cells": [
  {
   "cell_type": "code",
   "execution_count": 3,
   "metadata": {},
   "outputs": [],
   "source": [
    "\n",
    "import os\n",
    "import pickle"
   ]
  },
  {
   "cell_type": "code",
   "execution_count": 4,
   "metadata": {},
   "outputs": [],
   "source": [
    "import pandas as pd\n",
    "import numpy as np"
   ]
  },
  {
   "cell_type": "code",
   "execution_count": 5,
   "metadata": {},
   "outputs": [],
   "source": [
    "from tslearn.utils import to_time_series_dataset"
   ]
  },
  {
   "cell_type": "code",
   "execution_count": 6,
   "metadata": {},
   "outputs": [],
   "source": [
    "dirlist = [\"2015\",\"2016\",\"2017\",\"2018\",\"2019\",\"2020\",\"2021\"]\n",
    "shpfiles = []\n",
    "for inputdir in dirlist:\n",
    "        for dirpath, subdirs, files in os.walk(inputdir+\"/\"):\n",
    "            for x in files:\n",
    "                if x.endswith(\".csv\"):\n",
    "                    shpfiles.append(os.path.join(dirpath, x))"
   ]
  },
  {
   "cell_type": "code",
   "execution_count": 7,
   "metadata": {},
   "outputs": [],
   "source": [
    "weather_data = pd.read_csv(\"../../WeatherData/GFSEN_WDD_Forecasts.csv\",parse_dates=[\"Trans_INIT_Time\"])\n",
    "time_sep = weather_data[\"Trans_INIT_Time\"].drop_duplicates().reset_index(drop=True).values\n",
    "cutoff_pair = list(zip(time_sep, time_sep[1:]))\n",
    "\n",
    "first_period,secound_period = cutoff_pair[::4],cutoff_pair[1::4]\n",
    "theird_period,fourth_perid = cutoff_pair[2::4],cutoff_pair[3::4]"
   ]
  },
  {
   "cell_type": "code",
   "execution_count": 8,
   "metadata": {},
   "outputs": [],
   "source": [
    "def nomalize(sequence, method=\"l1\"):\n",
    "    if method == \"True\":\n",
    "        res = [item/sequence[0] for item in sequence]\n",
    "    elif method == \"l2\":\n",
    "        res = [j/i for i, j in zip(sequence[:-1], sequence[1:])]\n",
    "    return res"
   ]
  },
  {
   "cell_type": "code",
   "execution_count": 10,
   "metadata": {},
   "outputs": [],
   "source": [
    "def get_value_set(file_list, cutoff_pair, time_flag, use_nomalize=False):\n",
    "    li = []\n",
    "    for file_path in file_list:\n",
    "        data = pd.read_csv(file_path, parse_dates=[\n",
    "                            \"datetime\"], index_col=\"datetime\")\n",
    "        for item in cutoff_pair:\n",
    "            df = None\n",
    "            df = data.loc[item[0]:item[1]]\n",
    "            if item[0].astype(str)[11:19] == time_flag:\n",
    "                df[\"time_flag\"] = 1\n",
    "            else:\n",
    "                df[\"time_flag\"] = 0\n",
    "            if df is not None:\n",
    "                li.append(df)\n",
    "    concat_df = pd.concat(li, axis=0)\n",
    "    concat_df.dropna(how=\"any\", inplace=True)\n",
    "    res = concat_df.groupby(['CC_date', pd.Grouper(freq='D')]).agg(list)[\n",
    "        'vmap'].to_list()\n",
    "    if use_nomalize:\n",
    "        res = [nomalize(item, method=use_nomalize)\n",
    "                for item in res if len(item) > 2]\n",
    "    return concat_df, to_time_series_dataset(res)"
   ]
  },
  {
   "cell_type": "code",
   "execution_count": 9,
   "metadata": {},
   "outputs": [],
   "source": [
    "# def get_value_set(file_list, cutoff_pair, use_nomalize=False):\n",
    "#     data_li, sub_li = [], []\n",
    "#     for file_path in file_list:\n",
    "#         data = pd.read_csv(file_path, parse_dates=[\n",
    "#                            \"datetime\"], index_col=\"datetime\")\n",
    "#         data_li.append(data)\n",
    "        \n",
    "#     concat_data = pd.concat(data_li, axis=0)\n",
    "# #     for item in cutoff_pair:\n",
    "# #         df = None\n",
    "# #         df = concat_data.loc[item[0]:item[1]]\n",
    "# #         if df is not None:\n",
    "# #             sub_li.append(df)\n",
    "# #     concat_df = pd.concat(sub_li, axis=0)\n",
    "# #     concat_df.dropna(how=\"any\", inplace=True)\n",
    "# #     res = concat_df.groupby(['CC_date', pd.Grouper(freq='D')]).agg(list)[\n",
    "# #         'vmap'].to_list()\n",
    "# #     if use_nomalize:\n",
    "# #         res = [nomalize(item, method=use_nomalize)\n",
    "# #                for item in res if len(item) > 2]\n",
    "#     return concat_data\n",
    "# #to_time_series_dataset(res)"
   ]
  },
  {
   "cell_type": "code",
   "execution_count": 11,
   "metadata": {},
   "outputs": [],
   "source": [
    "from datetime import datetime, timedelta"
   ]
  },
  {
   "cell_type": "code",
   "execution_count": 12,
   "metadata": {},
   "outputs": [],
   "source": [
    "import matplotlib.dates as mdates\n",
    "xformatter = mdates.DateFormatter('%H:%M')"
   ]
  },
  {
   "cell_type": "code",
   "execution_count": 13,
   "metadata": {},
   "outputs": [],
   "source": [
    "def normalize_time(series):\n",
    "    series = pd.to_datetime(series, format=\"%H:%M:%S\").to_series()\n",
    "    \n",
    "    series += pd.to_timedelta(series.lt(series.shift()).cumsum(), unit=\"D\")\n",
    "    #print(series)\n",
    "    return series.values"
   ]
  },
  {
   "cell_type": "code",
   "execution_count": 14,
   "metadata": {},
   "outputs": [],
   "source": [
    "import seaborn as sns\n",
    "import matplotlib"
   ]
  },
  {
   "cell_type": "code",
   "execution_count": 19,
   "metadata": {},
   "outputs": [],
   "source": [
    "period_dict = {\"first_period\":first_period, 'secound_period':secound_period, 'theird_period':theird_period}\n",
    "period_date = {\"first_period\":\"00:28:00-06:28:00\", 'secound_period':\"06:28:00-12:28:00\", 'theird_period':\"12:28:00\"}"
   ]
  },
  {
   "cell_type": "code",
   "execution_count": null,
   "metadata": {},
   "outputs": [],
   "source": [
    "weather_data.set_index(\"Trans_INIT_Time\",inplace=True)"
   ]
  },
  {
   "cell_type": "markdown",
   "metadata": {},
   "source": [
    "## Clustering"
   ]
  },
  {
   "cell_type": "code",
   "execution_count": 15,
   "metadata": {},
   "outputs": [],
   "source": [
    "import matplotlib.pyplot as plt\n",
    "from tslearn.clustering import TimeSeriesKMeans\n",
    "from tslearn.preprocessing import TimeSeriesScalerMeanVariance, \\\n",
    "    TimeSeriesResampler"
   ]
  },
  {
   "cell_type": "code",
   "execution_count": 16,
   "metadata": {},
   "outputs": [],
   "source": [
    "def save_clustering_fig(dba_km, n_clusters, y_pred, period_data, file_name):\n",
    "    plot_count = math.ceil(math.sqrt(n_clusters))\n",
    "    #cluster_count = math.ceil(math.sqrt(len(mySeries)))\n",
    "    fig, axs = plt.subplots(plot_count, plot_count, figsize=(20, 20))\n",
    "    #fig.suptitle('First period')\n",
    "    row_i = 0\n",
    "    column_j = 0\n",
    "    \n",
    "    \n",
    "    for label in set(y_pred):\n",
    "        cluster = []\n",
    "        for i in range(len(y_pred)):\n",
    "            if(y_pred[i] == label):\n",
    "                axs[row_i, column_j].plot(period_data[i], color=[\n",
    "                                          0.7, 0.8, 0.8], alpha=0.4)\n",
    "                cluster.append(first_period[i])\n",
    "        if len(cluster) > 0:\n",
    "            axs[row_i, column_j].plot(dba_km.cluster_centers_[\n",
    "                                      label].ravel(), color=\"red\")\n",
    "\n",
    "        axs[row_i, column_j].set_title(\n",
    "            \"Cluster \"+str(row_i*plot_count+column_j))\n",
    "        column_j += 1\n",
    "        if column_j % plot_count == 0:\n",
    "            row_i += 1\n",
    "            column_j = 0"
   ]
  },
  {
   "cell_type": "code",
   "execution_count": 17,
   "metadata": {},
   "outputs": [],
   "source": [
    "def fit_data(n_cluster, period_data, period_df, file_name, method=\"dba\", use_nomalize=False):\n",
    "    if method == \"dba\":\n",
    "        seed = 13\n",
    "        dba_km = TimeSeriesKMeans(n_clusters=n_cluster,\n",
    "                                  metric=\"dtw\",\n",
    "                                  n_jobs=8,\n",
    "                                  max_iter_barycenter=10,\n",
    "                                  verbose=False,\n",
    "                                  n_init=2,\n",
    "                                  random_state=seed)\n",
    "        y_pred = dba_km.fit_predict(period_data)\n",
    "        sava_path = \"dba_\"+file_name+\"_\"+str(n_cluster)+\"_\"+str(use_nomalize)\n",
    "        # print(sava_path)\n",
    "        dba_km.to_pickle(sava_path+\".pkl\")\n",
    "        save_clustering_fig(dba_km=dba_km, n_clusters=n_cluster,\n",
    "                            y_pred=y_pred, period_data=period_data,period_df=period_df,file_name=sava_path)"
   ]
  },
  {
   "cell_type": "code",
   "execution_count": 110,
   "metadata": {},
   "outputs": [
    {
     "name": "stderr",
     "output_type": "stream",
     "text": [
      "C:\\ProgramData\\Anaconda3\\lib\\site-packages\\pandas\\core\\frame.py:3607: SettingWithCopyWarning: \n",
      "A value is trying to be set on a copy of a slice from a DataFrame.\n",
      "Try using .loc[row_indexer,col_indexer] = value instead\n",
      "\n",
      "See the caveats in the documentation: https://pandas.pydata.org/pandas-docs/stable/user_guide/indexing.html#returning-a-view-versus-a-copy\n",
      "  self._set_item(key, value)\n"
     ]
    }
   ],
   "source": [
    "for period in list(period_dict.keys())[2:]:\n",
    "    for normal in [\"True\", ]:\n",
    "        if period == \"first_period\":\n",
    "            time_flag = \"01:28:00\"\n",
    "            model_path = \"../K-means/first_period/models/dba_first_period_16_True.pkl\"\n",
    "        elif period == \"secound_period\":\n",
    "            time_flag = \"07:28:00\"\n",
    "            model_path = \"../K-means/secound_period/models/dba_secound_period_16_True.pkl\"\n",
    "        elif period == \"theird_period\":\n",
    "            time_flag = \"13:28:00\"\n",
    "            model_path = \"../K-means/theird_period/models/dba_theird_period_16_True.pkl\"\n",
    "        period_df, period_data = get_value_set(\n",
    "            shpfiles, period_dict[period],time_flag=time_flag, use_nomalize=normal)\n",
    "        model = TimeSeriesKMeans.from_pickle(model_path)\n",
    "        y_pred = model.predict(period_data)\n",
    "        \n",
    "        res = get_cluster_time_set(model, y_pred, period_df) \n",
    "        \n",
    "#         save_clustering_fig(dba_km=model,\n",
    "#                             y_pred=y_pred,\n",
    "#                             n_clusters=16,\n",
    "#                             file_name=model_path[:-4],\n",
    "#                             period_data=period_data,\n",
    "#                             period_df=period_df)\n",
    "        \n",
    "\n",
    "        \n",
    "#         for clu_n in tqdm([2, 3, 4, 8, 12, 14]):\n",
    "#             # for clu_n in tqdm([8, 12, 14]):\n",
    "#             # print(len(period_data))\n",
    "#             # print()\n",
    "#             y_pred = fit_data(n_cluster=clu_n, period_data=period_data,\n",
    "#                               file_name=period, use_nomalize=normal)"
   ]
  },
  {
   "cell_type": "code",
   "execution_count": null,
   "metadata": {},
   "outputs": [],
   "source": [
    "for label in res.keys():\n",
    "    li = []\n",
    "    for item in res[label]:\n",
    "        li.append(weather_data[weather_data.index.isin(item)])\n",
    "    concat_df = pd.concat(li, axis=0) \n",
    "    \n",
    "    concat_df = concat_df.loc[concat_df.index.strftime(\"%H:%M:%S\") <= \"16:00:00\"]\n",
    "    \n",
    "    fig, axs = plt.subplots(2, 3, figsize=(20, 20))\n",
    "    \n",
    "    row_i = 0\n",
    "    column_j = 0\n",
    "    \n",
    "    file_name = \" \".join([period_date.get(period), \"Cluster:\",  str(label+1)])\n",
    "\n",
    "    fig.suptitle(file_name)\n",
    "\n",
    "    for PARAM in [\"CDD\",\"HDD\"]:\n",
    "        sub_df = concat_df[concat_df[\"PARAM\"] == PARAM]\n",
    "        for item in [\"Sum_Value\",\"Delta_Sub\",\"Delta_Full\"]:\n",
    "            sns.distplot(sub_df[item], rug=True, rug_kws={\"color\": \"g\"},\n",
    "                          kde_kws={\"color\": \"k\", \"lw\": 3, \"label\": \"KDE\"},\n",
    "                          hist_kws={\"histtype\": \"step\", \"linewidth\": 3,\n",
    "                                    \"alpha\": 1, \"color\": \"g\"}, ax=axs[row_i, column_j])\n",
    "            axs[row_i, column_j].set_title(PARAM)\n",
    "\n",
    "            column_j += 1\n",
    "            if column_j % 3 == 0:\n",
    "                row_i += 1\n",
    "                column_j = 0\n",
    "\n",
    "    fig.tight_layout()\n",
    "    fig.subplots_adjust(top=0.95)\n",
    "    \n",
    "    plt.savefig(\"_\".join([period,\"cluster\",str(label+1)])+\".png\", dpi=200,\n",
    "                    bbox_inches=\"tight\", orientation='landscape')\n",
    "\n",
    "    #plt.show()\n",
    "        #sns.lineplot(x=\"index\",y=\"data\", data = center_df, color=\"red\", ax=axs[row_i, column_j])"
   ]
  },
  {
   "cell_type": "code",
   "execution_count": 215,
   "metadata": {},
   "outputs": [],
   "source": [
    "def show_distribution(concat_df,file_name):\n",
    "    \n",
    "    fig, axs = plt.subplots(2, 3, figsize=(20, 20))\n",
    "    \n",
    "    row_i = 0\n",
    "    column_j = 0\n",
    "    \n",
    "    file_name = \" \".join(file_name)\n",
    "\n",
    "    fig.suptitle(file_name)\n",
    "\n",
    "    for PARAM in [\"CDD\",\"HDD\"]:\n",
    "        sub_df = concat_df[concat_df[\"PARAM\"] == PARAM]\n",
    "        for item in [\"Sum_Value\",\"Delta_Sub\",\"Delta_Full\"]:\n",
    "            sns.distplot(sub_df[item], rug=True, rug_kws={\"color\": \"g\"},\n",
    "                          kde_kws={\"color\": \"k\", \"lw\": 3, \"label\": \"KDE\"},\n",
    "                          hist_kws={\"histtype\": \"step\", \"linewidth\": 3,\n",
    "                                    \"alpha\": 1, \"color\": \"g\"}, ax=axs[row_i, column_j])\n",
    "            axs[row_i, column_j].set_title(PARAM)\n",
    "\n",
    "            column_j += 1\n",
    "            if column_j % 3 == 0:\n",
    "                row_i += 1\n",
    "                column_j = 0\n",
    "\n",
    "    fig.tight_layout()\n",
    "    \n",
    "    fig.subplots_adjust(top=0.95)\n",
    "    \n",
    "    plt.savefig(\"_\".join(file_name)+\".png\", dpi=200,\n",
    "                    bbox_inches=\"tight\", orientation='landscape')"
   ]
  },
  {
   "cell_type": "code",
   "execution_count": 23,
   "metadata": {},
   "outputs": [],
   "source": [
    "def get_cluster_time_set(dba_km, y_pred, period_df):\n",
    "    \n",
    "    time_dict = {}\n",
    "                        \n",
    "    for label in set(y_pred):\n",
    "        i = 0\n",
    "        time_set = []\n",
    "        for _, d in period_df.groupby(['CC_date', pd.Grouper(freq='D')]):\n",
    "            if len(d) > 2:\n",
    "                if(y_pred[i] == label):\n",
    "                    time_set.append(d.index)\n",
    "                i += 1\n",
    "        time_dict.update({label:time_set})\n",
    "    return time_dict\n",
    "    "
   ]
  },
  {
   "cell_type": "code",
   "execution_count": 199,
   "metadata": {},
   "outputs": [],
   "source": [
    "import math\n",
    "def save_clustering_fig(dba_km, n_clusters, y_pred, period_data, period_df,ci_df, file_name):\n",
    "    plot_count = math.ceil(math.sqrt(n_clusters))\n",
    "        #cluster_count = math.ceil(math.sqrt(len(mySeries)))\n",
    "    fig, axs = plt.subplots(plot_count, plot_count, figsize=(20, 20))\n",
    "    #fig.suptitle('First period')\n",
    "    row_i = 0\n",
    "    column_j = 0\n",
    "    max_len_index = 0\n",
    "    max_index = None\n",
    "    \n",
    "    for _, d in period_df.groupby(['CC_date', pd.Grouper(freq='D')]):\n",
    "            if len(d) > 2:\n",
    "                    d[\"normal_vmap\"] = nomalize(d[\"vmap\"].values, method=\"True\")\n",
    "                    data_index = d.index\n",
    "                    if d[\"time_flag\"][0] == 1:\n",
    "                        data_index = data_index + timedelta(hours=-1,minutes=0)\n",
    "                    d[\"Time\"] = normalize_time(data_index.time)\n",
    "                    if len(d[\"Time\"]) > max_len_index:\n",
    "                        max_len_index = len(d[\"Time\"])\n",
    "                        max_index = d[\"Time\"]  \n",
    "    \n",
    "    for label in set(y_pred):\n",
    "        i = 0\n",
    "        for _, d in period_df.groupby(['CC_date', pd.Grouper(freq='D')]):\n",
    "            if len(d) > 2:\n",
    "                if(y_pred[i] == label):\n",
    "                    d[\"normal_vmap\"] = nomalize(d[\"vmap\"].values, method=\"True\")\n",
    "                    data_index = d.index\n",
    "                    color = [0.7, 0.8, 0.8]\n",
    "                    if d[\"time_flag\"][0] == 1:\n",
    "                        data_index = data_index + timedelta(hours=-1,minutes=0)\n",
    "                        color = [1, 0.96, 0.56]\n",
    "                    d[\"Time\"] = normalize_time(data_index.time) \n",
    "\n",
    "                    sns.lineplot(x=\"Time\",y=\"normal_vmap\", data = d, color=color, ax=axs[row_i, column_j])\n",
    "                i+=1\n",
    "        print((len(max_index.values),(len(dba_km.cluster_centers_[label].ravel()))))\n",
    "        center_df = pd.DataFrame({\"index\":max_index.values,\"data\":dba_km.cluster_centers_[label].ravel()})\n",
    "        sns.lineplot(x=\"index\",y=\"data\", data = center_df, color=\"red\", ax=axs[row_i, column_j])\n",
    "\n",
    "        axs[row_i, column_j].set_title(\n",
    "            \"Cluster \"+str(row_i*plot_count+column_j))\n",
    "        axs[row_i, column_j].xaxis.set_major_formatter(\n",
    "            matplotlib.dates.DateFormatter(\"%H:%M\")\n",
    "        )\n",
    "        \n",
    "        query_res = []\n",
    "        for param in [\"CDD\",\"HDD\"]:\n",
    "            for item in [\"Sum_Value\",\"Delta_Sub\",\"Delta_Full\"]:\n",
    "                ci_query = ci_df.round(2).query(f\"period == '{period}' & label == {label} & Param=='{param}' & fe=='{fe}'\")[[\"Param\",\"fe\",\"left_ci\",\"right_ci\"]].iloc[0].to_dict()\n",
    "                ci_query.update({\"ci\":[ci_query[\"left_ci\"],ci_query[\"right_ci\"]]})\n",
    "                for key in ['left_ci', 'right_ci']:\n",
    "                        ci_query.pop(key)\n",
    "                query_res.append(\"\\n\".join(\"{}: {}\".format(*i) for i in ci_query.items()))\n",
    "        \n",
    "        query_i = 0        \n",
    "        for item in np.arange(0.05, 0.95, 0.15).tolist():\n",
    "            axs[row_i, column_j].text(1.05, item ,query_res[query_i],\n",
    "                    size=14,\n",
    "                    bbox=dict(edgecolor='lightgreen', facecolor='none', pad=3, linewidth=1),\n",
    "                    ha='left', va='center', transform=ax.transAxes)\n",
    "            query_i += 1\n",
    "        \n",
    "        \n",
    "        column_j += 1\n",
    "        if column_j % plot_count == 0:\n",
    "            row_i += 1\n",
    "            column_j = 0\n",
    "    plt.savefig(file_name+\".png\", dpi=200,\n",
    "                bbox_inches=\"tight\", orientation='landscape')"
   ]
  },
  {
   "cell_type": "code",
   "execution_count": 4,
   "metadata": {},
   "outputs": [],
   "source": []
  },
  {
   "cell_type": "markdown",
   "metadata": {},
   "source": [
    "## Confience interval"
   ]
  },
  {
   "cell_type": "code",
   "execution_count": 26,
   "metadata": {},
   "outputs": [],
   "source": [
    "from scipy.stats import bernoulli, norm, t, skewnorm\n",
    "import numpy as np"
   ]
  },
  {
   "cell_type": "code",
   "execution_count": 200,
   "metadata": {},
   "outputs": [
    {
     "name": "stderr",
     "output_type": "stream",
     "text": [
      "C:\\ProgramData\\Anaconda3\\lib\\site-packages\\pandas\\core\\frame.py:3607: SettingWithCopyWarning: \n",
      "A value is trying to be set on a copy of a slice from a DataFrame.\n",
      "Try using .loc[row_indexer,col_indexer] = value instead\n",
      "\n",
      "See the caveats in the documentation: https://pandas.pydata.org/pandas-docs/stable/user_guide/indexing.html#returning-a-view-versus-a-copy\n",
      "  self._set_item(key, value)\n"
     ]
    },
    {
     "name": "stdout",
     "output_type": "stream",
     "text": [
      "(666, 361)\n"
     ]
    },
    {
     "ename": "ValueError",
     "evalue": "All arrays must be of the same length",
     "output_type": "error",
     "traceback": [
      "\u001b[1;31m---------------------------------------------------------------------------\u001b[0m",
      "\u001b[1;31mValueError\u001b[0m                                Traceback (most recent call last)",
      "\u001b[1;32m<ipython-input-200-6255b6f7465e>\u001b[0m in \u001b[0;36m<module>\u001b[1;34m\u001b[0m\n\u001b[0;32m     34\u001b[0m         \u001b[0mci_df\u001b[0m \u001b[1;33m=\u001b[0m \u001b[0mpd\u001b[0m\u001b[1;33m.\u001b[0m\u001b[0mDataFrame\u001b[0m\u001b[1;33m(\u001b[0m\u001b[0mci_data\u001b[0m\u001b[1;33m,\u001b[0m\u001b[0mcolumns\u001b[0m\u001b[1;33m=\u001b[0m\u001b[1;33m[\u001b[0m\u001b[1;34m\"label\"\u001b[0m\u001b[1;33m,\u001b[0m \u001b[1;34m\"Param\"\u001b[0m\u001b[1;33m,\u001b[0m \u001b[1;34m\"fe\"\u001b[0m\u001b[1;33m,\u001b[0m \u001b[1;34m\"left_ci\"\u001b[0m\u001b[1;33m,\u001b[0m \u001b[1;34m\"right_ci\"\u001b[0m\u001b[1;33m]\u001b[0m\u001b[1;33m)\u001b[0m\u001b[1;33m\u001b[0m\u001b[1;33m\u001b[0m\u001b[0m\n\u001b[0;32m     35\u001b[0m \u001b[1;33m\u001b[0m\u001b[0m\n\u001b[1;32m---> 36\u001b[1;33m         save_clustering_fig(dba_km=model,\n\u001b[0m\u001b[0;32m     37\u001b[0m                     \u001b[0my_pred\u001b[0m\u001b[1;33m=\u001b[0m\u001b[0my_pred\u001b[0m\u001b[1;33m,\u001b[0m\u001b[1;33m\u001b[0m\u001b[1;33m\u001b[0m\u001b[0m\n\u001b[0;32m     38\u001b[0m                     \u001b[0mn_clusters\u001b[0m\u001b[1;33m=\u001b[0m\u001b[1;36m16\u001b[0m\u001b[1;33m,\u001b[0m\u001b[1;33m\u001b[0m\u001b[1;33m\u001b[0m\u001b[0m\n",
      "\u001b[1;32m<ipython-input-199-42f07a179f12>\u001b[0m in \u001b[0;36msave_clustering_fig\u001b[1;34m(dba_km, n_clusters, y_pred, period_data, period_df, ci_df, file_name)\u001b[0m\n\u001b[0;32m     37\u001b[0m                 \u001b[0mi\u001b[0m\u001b[1;33m+=\u001b[0m\u001b[1;36m1\u001b[0m\u001b[1;33m\u001b[0m\u001b[1;33m\u001b[0m\u001b[0m\n\u001b[0;32m     38\u001b[0m         \u001b[0mprint\u001b[0m\u001b[1;33m(\u001b[0m\u001b[1;33m(\u001b[0m\u001b[0mlen\u001b[0m\u001b[1;33m(\u001b[0m\u001b[0mmax_index\u001b[0m\u001b[1;33m.\u001b[0m\u001b[0mvalues\u001b[0m\u001b[1;33m)\u001b[0m\u001b[1;33m,\u001b[0m\u001b[1;33m(\u001b[0m\u001b[0mlen\u001b[0m\u001b[1;33m(\u001b[0m\u001b[0mdba_km\u001b[0m\u001b[1;33m.\u001b[0m\u001b[0mcluster_centers_\u001b[0m\u001b[1;33m[\u001b[0m\u001b[0mlabel\u001b[0m\u001b[1;33m]\u001b[0m\u001b[1;33m.\u001b[0m\u001b[0mravel\u001b[0m\u001b[1;33m(\u001b[0m\u001b[1;33m)\u001b[0m\u001b[1;33m)\u001b[0m\u001b[1;33m)\u001b[0m\u001b[1;33m)\u001b[0m\u001b[1;33m)\u001b[0m\u001b[1;33m\u001b[0m\u001b[1;33m\u001b[0m\u001b[0m\n\u001b[1;32m---> 39\u001b[1;33m         \u001b[0mcenter_df\u001b[0m \u001b[1;33m=\u001b[0m \u001b[0mpd\u001b[0m\u001b[1;33m.\u001b[0m\u001b[0mDataFrame\u001b[0m\u001b[1;33m(\u001b[0m\u001b[1;33m{\u001b[0m\u001b[1;34m\"index\"\u001b[0m\u001b[1;33m:\u001b[0m\u001b[0mmax_index\u001b[0m\u001b[1;33m.\u001b[0m\u001b[0mvalues\u001b[0m\u001b[1;33m,\u001b[0m\u001b[1;34m\"data\"\u001b[0m\u001b[1;33m:\u001b[0m\u001b[0mdba_km\u001b[0m\u001b[1;33m.\u001b[0m\u001b[0mcluster_centers_\u001b[0m\u001b[1;33m[\u001b[0m\u001b[0mlabel\u001b[0m\u001b[1;33m]\u001b[0m\u001b[1;33m.\u001b[0m\u001b[0mravel\u001b[0m\u001b[1;33m(\u001b[0m\u001b[1;33m)\u001b[0m\u001b[1;33m}\u001b[0m\u001b[1;33m)\u001b[0m\u001b[1;33m\u001b[0m\u001b[1;33m\u001b[0m\u001b[0m\n\u001b[0m\u001b[0;32m     40\u001b[0m         \u001b[0msns\u001b[0m\u001b[1;33m.\u001b[0m\u001b[0mlineplot\u001b[0m\u001b[1;33m(\u001b[0m\u001b[0mx\u001b[0m\u001b[1;33m=\u001b[0m\u001b[1;34m\"index\"\u001b[0m\u001b[1;33m,\u001b[0m\u001b[0my\u001b[0m\u001b[1;33m=\u001b[0m\u001b[1;34m\"data\"\u001b[0m\u001b[1;33m,\u001b[0m \u001b[0mdata\u001b[0m \u001b[1;33m=\u001b[0m \u001b[0mcenter_df\u001b[0m\u001b[1;33m,\u001b[0m \u001b[0mcolor\u001b[0m\u001b[1;33m=\u001b[0m\u001b[1;34m\"red\"\u001b[0m\u001b[1;33m,\u001b[0m \u001b[0max\u001b[0m\u001b[1;33m=\u001b[0m\u001b[0maxs\u001b[0m\u001b[1;33m[\u001b[0m\u001b[0mrow_i\u001b[0m\u001b[1;33m,\u001b[0m \u001b[0mcolumn_j\u001b[0m\u001b[1;33m]\u001b[0m\u001b[1;33m)\u001b[0m\u001b[1;33m\u001b[0m\u001b[1;33m\u001b[0m\u001b[0m\n\u001b[0;32m     41\u001b[0m \u001b[1;33m\u001b[0m\u001b[0m\n",
      "\u001b[1;32mC:\\ProgramData\\Anaconda3\\lib\\site-packages\\pandas\\core\\frame.py\u001b[0m in \u001b[0;36m__init__\u001b[1;34m(self, data, index, columns, dtype, copy)\u001b[0m\n\u001b[0;32m    612\u001b[0m         \u001b[1;32melif\u001b[0m \u001b[0misinstance\u001b[0m\u001b[1;33m(\u001b[0m\u001b[0mdata\u001b[0m\u001b[1;33m,\u001b[0m \u001b[0mdict\u001b[0m\u001b[1;33m)\u001b[0m\u001b[1;33m:\u001b[0m\u001b[1;33m\u001b[0m\u001b[1;33m\u001b[0m\u001b[0m\n\u001b[0;32m    613\u001b[0m             \u001b[1;31m# GH#38939 de facto copy defaults to False only in non-dict cases\u001b[0m\u001b[1;33m\u001b[0m\u001b[1;33m\u001b[0m\u001b[1;33m\u001b[0m\u001b[0m\n\u001b[1;32m--> 614\u001b[1;33m             \u001b[0mmgr\u001b[0m \u001b[1;33m=\u001b[0m \u001b[0mdict_to_mgr\u001b[0m\u001b[1;33m(\u001b[0m\u001b[0mdata\u001b[0m\u001b[1;33m,\u001b[0m \u001b[0mindex\u001b[0m\u001b[1;33m,\u001b[0m \u001b[0mcolumns\u001b[0m\u001b[1;33m,\u001b[0m \u001b[0mdtype\u001b[0m\u001b[1;33m=\u001b[0m\u001b[0mdtype\u001b[0m\u001b[1;33m,\u001b[0m \u001b[0mcopy\u001b[0m\u001b[1;33m=\u001b[0m\u001b[0mcopy\u001b[0m\u001b[1;33m,\u001b[0m \u001b[0mtyp\u001b[0m\u001b[1;33m=\u001b[0m\u001b[0mmanager\u001b[0m\u001b[1;33m)\u001b[0m\u001b[1;33m\u001b[0m\u001b[1;33m\u001b[0m\u001b[0m\n\u001b[0m\u001b[0;32m    615\u001b[0m         \u001b[1;32melif\u001b[0m \u001b[0misinstance\u001b[0m\u001b[1;33m(\u001b[0m\u001b[0mdata\u001b[0m\u001b[1;33m,\u001b[0m \u001b[0mma\u001b[0m\u001b[1;33m.\u001b[0m\u001b[0mMaskedArray\u001b[0m\u001b[1;33m)\u001b[0m\u001b[1;33m:\u001b[0m\u001b[1;33m\u001b[0m\u001b[1;33m\u001b[0m\u001b[0m\n\u001b[0;32m    616\u001b[0m             \u001b[1;32mimport\u001b[0m \u001b[0mnumpy\u001b[0m\u001b[1;33m.\u001b[0m\u001b[0mma\u001b[0m\u001b[1;33m.\u001b[0m\u001b[0mmrecords\u001b[0m \u001b[1;32mas\u001b[0m \u001b[0mmrecords\u001b[0m\u001b[1;33m\u001b[0m\u001b[1;33m\u001b[0m\u001b[0m\n",
      "\u001b[1;32mC:\\ProgramData\\Anaconda3\\lib\\site-packages\\pandas\\core\\internals\\construction.py\u001b[0m in \u001b[0;36mdict_to_mgr\u001b[1;34m(data, index, columns, dtype, typ, copy)\u001b[0m\n\u001b[0;32m    460\u001b[0m         \u001b[1;31m# TODO: can we get rid of the dt64tz special case above?\u001b[0m\u001b[1;33m\u001b[0m\u001b[1;33m\u001b[0m\u001b[1;33m\u001b[0m\u001b[0m\n\u001b[0;32m    461\u001b[0m \u001b[1;33m\u001b[0m\u001b[0m\n\u001b[1;32m--> 462\u001b[1;33m     return arrays_to_mgr(\n\u001b[0m\u001b[0;32m    463\u001b[0m         \u001b[0marrays\u001b[0m\u001b[1;33m,\u001b[0m \u001b[0mdata_names\u001b[0m\u001b[1;33m,\u001b[0m \u001b[0mindex\u001b[0m\u001b[1;33m,\u001b[0m \u001b[0mcolumns\u001b[0m\u001b[1;33m,\u001b[0m \u001b[0mdtype\u001b[0m\u001b[1;33m=\u001b[0m\u001b[0mdtype\u001b[0m\u001b[1;33m,\u001b[0m \u001b[0mtyp\u001b[0m\u001b[1;33m=\u001b[0m\u001b[0mtyp\u001b[0m\u001b[1;33m,\u001b[0m \u001b[0mconsolidate\u001b[0m\u001b[1;33m=\u001b[0m\u001b[0mcopy\u001b[0m\u001b[1;33m\u001b[0m\u001b[1;33m\u001b[0m\u001b[0m\n\u001b[0;32m    464\u001b[0m     )\n",
      "\u001b[1;32mC:\\ProgramData\\Anaconda3\\lib\\site-packages\\pandas\\core\\internals\\construction.py\u001b[0m in \u001b[0;36marrays_to_mgr\u001b[1;34m(arrays, arr_names, index, columns, dtype, verify_integrity, typ, consolidate)\u001b[0m\n\u001b[0;32m    115\u001b[0m         \u001b[1;31m# figure out the index, if necessary\u001b[0m\u001b[1;33m\u001b[0m\u001b[1;33m\u001b[0m\u001b[1;33m\u001b[0m\u001b[0m\n\u001b[0;32m    116\u001b[0m         \u001b[1;32mif\u001b[0m \u001b[0mindex\u001b[0m \u001b[1;32mis\u001b[0m \u001b[1;32mNone\u001b[0m\u001b[1;33m:\u001b[0m\u001b[1;33m\u001b[0m\u001b[1;33m\u001b[0m\u001b[0m\n\u001b[1;32m--> 117\u001b[1;33m             \u001b[0mindex\u001b[0m \u001b[1;33m=\u001b[0m \u001b[0m_extract_index\u001b[0m\u001b[1;33m(\u001b[0m\u001b[0marrays\u001b[0m\u001b[1;33m)\u001b[0m\u001b[1;33m\u001b[0m\u001b[1;33m\u001b[0m\u001b[0m\n\u001b[0m\u001b[0;32m    118\u001b[0m         \u001b[1;32melse\u001b[0m\u001b[1;33m:\u001b[0m\u001b[1;33m\u001b[0m\u001b[1;33m\u001b[0m\u001b[0m\n\u001b[0;32m    119\u001b[0m             \u001b[0mindex\u001b[0m \u001b[1;33m=\u001b[0m \u001b[0mensure_index\u001b[0m\u001b[1;33m(\u001b[0m\u001b[0mindex\u001b[0m\u001b[1;33m)\u001b[0m\u001b[1;33m\u001b[0m\u001b[1;33m\u001b[0m\u001b[0m\n",
      "\u001b[1;32mC:\\ProgramData\\Anaconda3\\lib\\site-packages\\pandas\\core\\internals\\construction.py\u001b[0m in \u001b[0;36m_extract_index\u001b[1;34m(data)\u001b[0m\n\u001b[0;32m    621\u001b[0m             \u001b[0mlengths\u001b[0m \u001b[1;33m=\u001b[0m \u001b[0mlist\u001b[0m\u001b[1;33m(\u001b[0m\u001b[0mset\u001b[0m\u001b[1;33m(\u001b[0m\u001b[0mraw_lengths\u001b[0m\u001b[1;33m)\u001b[0m\u001b[1;33m)\u001b[0m\u001b[1;33m\u001b[0m\u001b[1;33m\u001b[0m\u001b[0m\n\u001b[0;32m    622\u001b[0m             \u001b[1;32mif\u001b[0m \u001b[0mlen\u001b[0m\u001b[1;33m(\u001b[0m\u001b[0mlengths\u001b[0m\u001b[1;33m)\u001b[0m \u001b[1;33m>\u001b[0m \u001b[1;36m1\u001b[0m\u001b[1;33m:\u001b[0m\u001b[1;33m\u001b[0m\u001b[1;33m\u001b[0m\u001b[0m\n\u001b[1;32m--> 623\u001b[1;33m                 \u001b[1;32mraise\u001b[0m \u001b[0mValueError\u001b[0m\u001b[1;33m(\u001b[0m\u001b[1;34m\"All arrays must be of the same length\"\u001b[0m\u001b[1;33m)\u001b[0m\u001b[1;33m\u001b[0m\u001b[1;33m\u001b[0m\u001b[0m\n\u001b[0m\u001b[0;32m    624\u001b[0m \u001b[1;33m\u001b[0m\u001b[0m\n\u001b[0;32m    625\u001b[0m             \u001b[1;32mif\u001b[0m \u001b[0mhave_dicts\u001b[0m\u001b[1;33m:\u001b[0m\u001b[1;33m\u001b[0m\u001b[1;33m\u001b[0m\u001b[0m\n",
      "\u001b[1;31mValueError\u001b[0m: All arrays must be of the same length"
     ]
    },
    {
     "data": {
      "image/png": "[encoded data removed]",
      "text/plain": [
       "<Figure size 1440x1440 with 16 Axes>"
      ]
     },
     "metadata": {
      "needs_background": "light"
     },
     "output_type": "display_data"
    }
   ],
   "source": [
    "\n",
    "for period in list(period_dict.keys()):\n",
    "    for normal in [\"True\", ]:\n",
    "        if period == \"first_period\":\n",
    "            time_flag = \"01:28:00\"\n",
    "            model_path = \"../K-means/first_period/models/dba_first_period_16_True.pkl\"\n",
    "        elif period == \"secound_period\":\n",
    "            time_flag = \"07:28:00\"\n",
    "            model_path = \"../K-means/secound_period/models/dba_secound_period_16_True.pkl\"\n",
    "        elif period == \"theird_period\":\n",
    "            time_flag = \"13:28:00\"\n",
    "            model_path = \"../K-means/theird_period/models/dba_theird_period_16_True.pkl\"\n",
    "        period_df, period_data = get_value_set(\n",
    "            shpfiles, period_dict[period],time_flag=time_flag, use_nomalize=normal)\n",
    "        model = TimeSeriesKMeans.from_pickle(model_path)\n",
    "        y_pred = model.predict(period_data)\n",
    "        \n",
    "        res = get_cluster_time_set(model, y_pred, period_df)\n",
    "        \n",
    "        ci_data = []\n",
    "        for label in res.keys():\n",
    "            li = []\n",
    "            for item in res[label]:\n",
    "                li.append(weather_data[weather_data.index.isin(item)])\n",
    "            concat_df = pd.concat(li, axis=0)\n",
    "            concat_df = concat_df.loc[concat_df.index.strftime(\"%H:%M:%S\") <= \"16:00:00\"]\n",
    "\n",
    "            for PARAM in [\"CDD\",\"HDD\"]:\n",
    "                for fe in [\"Sum_Value\",\"Delta_Sub\",\"Delta_Full\"]: \n",
    "                    sub_df = concat_df[concat_df[\"PARAM\"] == PARAM]\n",
    "                    \n",
    "                    left_ci , right_ci = get_confidence_interbval(sub_df[fe].values)\n",
    "                    ci_data.append((label,PARAM,fe,left_ci,right_ci))\n",
    "        \n",
    "        ci_df = pd.DataFrame(ci_data,columns=[\"label\", \"Param\", \"fe\", \"left_ci\", \"right_ci\"])\n",
    "        \n",
    "        save_clustering_fig(dba_km=model,\n",
    "                    y_pred=y_pred,\n",
    "                    n_clusters=16,\n",
    "                    file_name=model_path[:-4],\n",
    "                    period_data=period_data,\n",
    "                    period_df=period_df,\n",
    "                    ci_df=ci_df )\n",
    "        "
   ]
  },
  {
   "cell_type": "code",
   "execution_count": 2,
   "metadata": {},
   "outputs": [],
   "source": [
    "def get_confidence_interbval(sample, ci=0.95):\n",
    "    \n",
    "    x_hat = np.mean(sample)\n",
    "    n = len(sample)\n",
    "    z_hat = norm.ppf(ci+(1-ci)/2)*np.std(sample)/np.sqrt(n)\n",
    "    \n",
    "    return x_hat-z_hat, x_hat+z_hat"
   ]
  },
  {
   "cell_type": "code",
   "execution_count": 203,
   "metadata": {},
   "outputs": [
    {
     "data": {
      "text/html": [
       "<div>\n",
       "<style scoped>\n",
       "    .dataframe tbody tr th:only-of-type {\n",
       "        vertical-align: middle;\n",
       "    }\n",
       "\n",
       "    .dataframe tbody tr th {\n",
       "        vertical-align: top;\n",
       "    }\n",
       "\n",
       "    .dataframe thead th {\n",
       "        text-align: right;\n",
       "    }\n",
       "</style>\n",
       "<table border=\"1\" class=\"dataframe\">\n",
       "  <thead>\n",
       "    <tr style=\"text-align: right;\">\n",
       "      <th></th>\n",
       "      <th>label</th>\n",
       "      <th>Param</th>\n",
       "      <th>fe</th>\n",
       "      <th>left_ci</th>\n",
       "      <th>right_ci</th>\n",
       "    </tr>\n",
       "  </thead>\n",
       "  <tbody>\n",
       "    <tr>\n",
       "      <th>0</th>\n",
       "      <td>0</td>\n",
       "      <td>CDD</td>\n",
       "      <td>Sum_Value</td>\n",
       "      <td>30.990187</td>\n",
       "      <td>42.831307</td>\n",
       "    </tr>\n",
       "    <tr>\n",
       "      <th>1</th>\n",
       "      <td>0</td>\n",
       "      <td>CDD</td>\n",
       "      <td>Delta_Sub</td>\n",
       "      <td>-0.145058</td>\n",
       "      <td>0.091877</td>\n",
       "    </tr>\n",
       "    <tr>\n",
       "      <th>2</th>\n",
       "      <td>0</td>\n",
       "      <td>CDD</td>\n",
       "      <td>Delta_Full</td>\n",
       "      <td>-0.133588</td>\n",
       "      <td>0.167874</td>\n",
       "    </tr>\n",
       "    <tr>\n",
       "      <th>3</th>\n",
       "      <td>0</td>\n",
       "      <td>HDD</td>\n",
       "      <td>Sum_Value</td>\n",
       "      <td>223.031731</td>\n",
       "      <td>258.680606</td>\n",
       "    </tr>\n",
       "    <tr>\n",
       "      <th>4</th>\n",
       "      <td>0</td>\n",
       "      <td>HDD</td>\n",
       "      <td>Delta_Sub</td>\n",
       "      <td>-1.097433</td>\n",
       "      <td>0.093082</td>\n",
       "    </tr>\n",
       "    <tr>\n",
       "      <th>...</th>\n",
       "      <td>...</td>\n",
       "      <td>...</td>\n",
       "      <td>...</td>\n",
       "      <td>...</td>\n",
       "      <td>...</td>\n",
       "    </tr>\n",
       "    <tr>\n",
       "      <th>91</th>\n",
       "      <td>15</td>\n",
       "      <td>CDD</td>\n",
       "      <td>Delta_Sub</td>\n",
       "      <td>-0.351692</td>\n",
       "      <td>0.401692</td>\n",
       "    </tr>\n",
       "    <tr>\n",
       "      <th>92</th>\n",
       "      <td>15</td>\n",
       "      <td>CDD</td>\n",
       "      <td>Delta_Full</td>\n",
       "      <td>-0.240151</td>\n",
       "      <td>0.680151</td>\n",
       "    </tr>\n",
       "    <tr>\n",
       "      <th>93</th>\n",
       "      <td>15</td>\n",
       "      <td>HDD</td>\n",
       "      <td>Sum_Value</td>\n",
       "      <td>200.034153</td>\n",
       "      <td>355.170847</td>\n",
       "    </tr>\n",
       "    <tr>\n",
       "      <th>94</th>\n",
       "      <td>15</td>\n",
       "      <td>HDD</td>\n",
       "      <td>Delta_Sub</td>\n",
       "      <td>-3.822855</td>\n",
       "      <td>2.241189</td>\n",
       "    </tr>\n",
       "    <tr>\n",
       "      <th>95</th>\n",
       "      <td>15</td>\n",
       "      <td>HDD</td>\n",
       "      <td>Delta_Full</td>\n",
       "      <td>-4.646268</td>\n",
       "      <td>1.661268</td>\n",
       "    </tr>\n",
       "  </tbody>\n",
       "</table>\n",
       "<p>96 rows × 5 columns</p>\n",
       "</div>"
      ],
      "text/plain": [
       "    label Param          fe     left_ci    right_ci\n",
       "0       0   CDD   Sum_Value   30.990187   42.831307\n",
       "1       0   CDD   Delta_Sub   -0.145058    0.091877\n",
       "2       0   CDD  Delta_Full   -0.133588    0.167874\n",
       "3       0   HDD   Sum_Value  223.031731  258.680606\n",
       "4       0   HDD   Delta_Sub   -1.097433    0.093082\n",
       "..    ...   ...         ...         ...         ...\n",
       "91     15   CDD   Delta_Sub   -0.351692    0.401692\n",
       "92     15   CDD  Delta_Full   -0.240151    0.680151\n",
       "93     15   HDD   Sum_Value  200.034153  355.170847\n",
       "94     15   HDD   Delta_Sub   -3.822855    2.241189\n",
       "95     15   HDD  Delta_Full   -4.646268    1.661268\n",
       "\n",
       "[96 rows x 5 columns]"
      ]
     },
     "execution_count": 203,
     "metadata": {},
     "output_type": "execute_result"
    }
   ],
   "source": [
    "ci_df"
   ]
  },
  {
   "cell_type": "code",
   "execution_count": 206,
   "metadata": {},
   "outputs": [],
   "source": [
    "ci_sub_query = ci_df.round(2).query(f\"Param=='CDD' & fe=='Sum_Value'\")[[\"left_ci\", \"right_ci\"]]\n",
    "#.iloc[0].to_dict()"
   ]
  },
  {
   "cell_type": "code",
   "execution_count": 209,
   "metadata": {},
   "outputs": [],
   "source": [
    "SE_hat_x_list = list(ci_sub_query.itertuples(index=False,name=None))"
   ]
  },
  {
   "cell_type": "code",
   "execution_count": 210,
   "metadata": {},
   "outputs": [
    {
     "data": {
      "text/plain": [
       "[36.91,\n",
       " 55.650000000000006,\n",
       " 59.235,\n",
       " 49.9,\n",
       " 4.19,\n",
       " 70.86,\n",
       " 26.845,\n",
       " 46.07,\n",
       " 63.365,\n",
       " 45.394999999999996,\n",
       " 64.21000000000001,\n",
       " 68.82,\n",
       " 34.86,\n",
       " 48.254999999999995,\n",
       " 1.54,\n",
       " 15.89]"
      ]
     },
     "execution_count": 210,
     "metadata": {},
     "output_type": "execute_result"
    }
   ],
   "source": [
    "[(x[0]+x[1])/2 for x in SE_hat_x_list]"
   ]
  },
  {
   "cell_type": "code",
   "execution_count": 211,
   "metadata": {},
   "outputs": [
    {
     "data": {
      "text/plain": [
       "[(30.99, 42.83),\n",
       " (47.63, 63.67),\n",
       " (44.61, 73.86),\n",
       " (38.86, 60.94),\n",
       " (4.15, 4.23),\n",
       " (64.53, 77.19),\n",
       " (6.55, 47.14),\n",
       " (30.74, 61.4),\n",
       " (56.34, 70.39),\n",
       " (37.74, 53.05),\n",
       " (44.7, 83.72),\n",
       " (62.89, 74.75),\n",
       " (23.77, 45.95),\n",
       " (37.26, 59.25),\n",
       " (0.2, 2.88),\n",
       " (9.18, 22.6)]"
      ]
     },
     "execution_count": 211,
     "metadata": {},
     "output_type": "execute_result"
    }
   ],
   "source": [
    "SE_hat_x_list"
   ]
  },
  {
   "cell_type": "code",
   "execution_count": null,
   "metadata": {},
   "outputs": [],
   "source": [
    "f\"Param=='{param}' & fe=='{fe}'\""
   ]
  },
  {
   "cell_type": "code",
   "execution_count": 214,
   "metadata": {},
   "outputs": [],
   "source": [
    "def show_confidence_interval(ci_df, query_str , filename):\n",
    "        \n",
    "        ci_sub_query = ci_df.round(2).query(query_str)[[\"left_ci\", \"right_ci\"]]\n",
    "        \n",
    "        SE_hat_x_list = list(ci_sub_query.itertuples(index=False,name=None))\n",
    "        \n",
    "        x_hat_list = [(x[0]+x[1])/2 for x in SE_hat_x_list]\n",
    "        \n",
    "        \n",
    "        fig, ax = plt.subplots(1, 1, figsize=(6, 8))\n",
    "        for i in range(len(x_hat_list)):\n",
    "            ax.errorbar(x_hat_list[i], np.arange(len(x_hat_list))[i],lolims=True, xerr=SE_hat_x_list[1]-x_hat_list[i], yerr=0.0, linestyle='', c='black')\n",
    "    \n",
    "        fig.suptitle(\" \".join(filename))\n",
    "\n",
    "        fig.tight_layout()\n",
    "        fig.subplots_adjust(top=0.95)\n",
    "\n",
    "        plt.savefig(\"_\".join(filename)+\".png\", dpi=200,\n",
    "                        bbox_inches=\"tight\", orientation='landscape')"
   ]
  },
  {
   "cell_type": "code",
   "execution_count": 73,
   "metadata": {},
   "outputs": [],
   "source": [
    "def confidence_interval_mean(sample_set, filename, ci=0.9):\n",
    "    x_hat_list = []\n",
    "    SE_hat_x_list = []\n",
    "    \n",
    "    confidence_interval_set = []\n",
    "    \n",
    "    for s_ in sample_set :\n",
    "        \n",
    "        x_hat = np.mean(s_)\n",
    "        x_hat_list.append(x_hat)\n",
    "        n = len(s_)\n",
    "        z_hat = norm.ppf(ci+(1-ci)/2)*np.std(s_)/np.sqrt(n)\n",
    "        SE_hat_x_list.append(z_hat)\n",
    "        \n",
    "        confidence_interval_set.append((x_hat-z_hat, x_hat+z_hat))\n",
    "        #print(confidence_interval_set)\n",
    "\n",
    "    fig, ax = plt.subplots(1, 1, figsize=(6, 8))\n",
    "    for i in range(len(x_hat_list)):\n",
    "            ax.errorbar(x_hat_list[i], np.arange(len(x_hat_list))[i],lolims=True, xerr=SE_hat_x_list[i], yerr=0.0, linestyle='', c='black')\n",
    "    \n",
    "    fig.suptitle(\" \".join(filename))\n",
    "\n",
    "    fig.tight_layout()\n",
    "    fig.subplots_adjust(top=0.95)\n",
    "    \n",
    "    plt.savefig(\"_\".join(filename)+\".png\", dpi=200,\n",
    "                    bbox_inches=\"tight\", orientation='landscape')\n",
    "    \n",
    "    return confidence_interval_set\n",
    "    #print(f'{j}/{number_trials}={np.round(j/number_trials,2)}')"
   ]
  },
  {
   "cell_type": "code",
   "execution_count": 42,
   "metadata": {},
   "outputs": [
    {
     "name": "stdout",
     "output_type": "stream",
     "text": [
      "[(3.3131315841577864, 6.686868415842214)]\n"
     ]
    },
    {
     "data": {
      "image/png": "[encoded data removed]",
      "text/plain": [
       "<Figure size 432x576 with 1 Axes>"
      ]
     },
     "metadata": {
      "needs_background": "light"
     },
     "output_type": "display_data"
    },
    {
     "data": {
      "text/plain": [
       "[(3.3131315841577864, 6.686868415842214)]"
      ]
     },
     "execution_count": 42,
     "metadata": {},
     "output_type": "execute_result"
    }
   ],
   "source": [
    "confidence_interval_mean([sample])"
   ]
  },
  {
   "cell_type": "code",
   "execution_count": 53,
   "metadata": {},
   "outputs": [
    {
     "data": {
      "text/plain": [
       "Text(1.05, 0.5, 'name: hh \\nsex:ss \\nsfs:sdf')"
      ]
     },
     "execution_count": 53,
     "metadata": {},
     "output_type": "execute_result"
    },
    {
     "data": {
      "image/png": "[encoded data removed]",
      "text/plain": [
       "<Figure size 576x576 with 1 Axes>"
      ]
     },
     "metadata": {
      "needs_background": "light"
     },
     "output_type": "display_data"
    }
   ],
   "source": []
  },
  {
   "cell_type": "code",
   "execution_count": 69,
   "metadata": {},
   "outputs": [],
   "source": [
    "period = 'first_period'\n",
    "label=0\n",
    "param='CDD'\n",
    "fe='Sum_Value'"
   ]
  },
  {
   "cell_type": "code",
   "execution_count": 197,
   "metadata": {},
   "outputs": [
    {
     "data": {
      "image/png": "[encoded data removed]",
      "text/plain": [
       "<Figure size 576x576 with 1 Axes>"
      ]
     },
     "metadata": {
      "needs_background": "light"
     },
     "output_type": "display_data"
    }
   ],
   "source": [
    "ci_query = ci_df.round(2).query(f\"period == '{period}' & label == {label} & Param=='{param}' & fe=='{fe}'\")[[\"Param\",\"fe\",\"left_ci\",\"right_ci\"]].iloc[0].to_dict()\n",
    "ci_query.update({\"ci\":[ci_query[\"left_ci\"],ci_query[\"right_ci\"]]})\n",
    "for key in ['left_ci', 'right_ci']:\n",
    "        ci_query.pop(key)\n",
    "res = \"\\n\".join(\"{}: {}\".format(*i) for i in ci_query.items())\n",
    "\n",
    "fig, ax = plt.subplots(figsize=(8, 8))\n",
    "ax.scatter(np.random.rand(100), np.random.rand(100),\n",
    "           marker='+', c=np.random.rand(100),\n",
    "           cmap='hsv')\n",
    "for item in   np.arange(0.05, 0.95, 0.15).tolist():\n",
    "    ax.text(1.05, item ,res,\n",
    "            size=9,\n",
    "            bbox=dict(edgecolor='lightgreen', facecolor='none', pad=3, linewidth=1),\n",
    "            ha='left', va='center', transform=ax.transAxes)"
   ]
  },
  {
   "cell_type": "code",
   "execution_count": 154,
   "metadata": {},
   "outputs": [
    {
     "ename": "KeyError",
     "evalue": "'left_ci'",
     "output_type": "error",
     "traceback": [
      "\u001b[1;31m---------------------------------------------------------------------------\u001b[0m",
      "\u001b[1;31mKeyError\u001b[0m                                  Traceback (most recent call last)",
      "\u001b[1;32m<ipython-input-154-7b3642b5612a>\u001b[0m in \u001b[0;36m<module>\u001b[1;34m\u001b[0m\n\u001b[1;32m----> 1\u001b[1;33m \u001b[0mci_query\u001b[0m\u001b[1;33m.\u001b[0m\u001b[0mupdate\u001b[0m\u001b[1;33m(\u001b[0m\u001b[1;33m{\u001b[0m\u001b[1;34m\"ci\"\u001b[0m\u001b[1;33m:\u001b[0m\u001b[1;33m[\u001b[0m\u001b[0mci_query\u001b[0m\u001b[1;33m[\u001b[0m\u001b[1;34m\"left_ci\"\u001b[0m\u001b[1;33m]\u001b[0m\u001b[1;33m,\u001b[0m\u001b[0mci_query\u001b[0m\u001b[1;33m[\u001b[0m\u001b[1;34m\"right_ci\"\u001b[0m\u001b[1;33m]\u001b[0m\u001b[1;33m]\u001b[0m\u001b[1;33m}\u001b[0m\u001b[1;33m)\u001b[0m\u001b[1;33m\u001b[0m\u001b[1;33m\u001b[0m\u001b[0m\n\u001b[0m\u001b[0;32m      2\u001b[0m \u001b[1;32mfor\u001b[0m \u001b[0mkey\u001b[0m \u001b[1;32min\u001b[0m \u001b[1;33m[\u001b[0m\u001b[1;34m'left_ci'\u001b[0m\u001b[1;33m,\u001b[0m \u001b[1;34m'right_ci'\u001b[0m\u001b[1;33m]\u001b[0m\u001b[1;33m:\u001b[0m\u001b[1;33m\u001b[0m\u001b[1;33m\u001b[0m\u001b[0m\n\u001b[0;32m      3\u001b[0m         \u001b[0mci_query\u001b[0m\u001b[1;33m.\u001b[0m\u001b[0mpop\u001b[0m\u001b[1;33m(\u001b[0m\u001b[0mkey\u001b[0m\u001b[1;33m)\u001b[0m\u001b[1;33m\u001b[0m\u001b[1;33m\u001b[0m\u001b[0m\n",
      "\u001b[1;31mKeyError\u001b[0m: 'left_ci'"
     ]
    }
   ],
   "source": []
  },
  {
   "cell_type": "code",
   "execution_count": 165,
   "metadata": {},
   "outputs": [],
   "source": []
  },
  {
   "cell_type": "code",
   "execution_count": 186,
   "metadata": {},
   "outputs": [
    {
     "data": {
      "text/plain": [
       "[0, 1, 2, 3, 4, 5, 6, 7, 8, 9]"
      ]
     },
     "execution_count": 186,
     "metadata": {},
     "output_type": "execute_result"
    }
   ],
   "source": [
    "list(range(10))"
   ]
  },
  {
   "cell_type": "code",
   "execution_count": 189,
   "metadata": {},
   "outputs": [
    {
     "data": {
      "text/plain": [
       "[0.05,\n",
       " 0.2,\n",
       " 0.35000000000000003,\n",
       " 0.5000000000000001,\n",
       " 0.6500000000000001,\n",
       " 0.8000000000000002]"
      ]
     },
     "execution_count": 189,
     "metadata": {},
     "output_type": "execute_result"
    }
   ],
   "source": [
    " np.arange(0.05, 0.95, 0.15).tolist()"
   ]
  },
  {
   "cell_type": "code",
   "execution_count": null,
   "metadata": {},
   "outputs": [],
   "source": []
  }
 ],
 "metadata": {
  "kernelspec": {
   "display_name": "Python 3",
   "language": "python",
   "name": "python3"
  },
  "language_info": {
   "codemirror_mode": {
    "name": "ipython",
    "version": 3
   },
   "file_extension": ".py",
   "mimetype": "text/x-python",
   "name": "python",
   "nbconvert_exporter": "python",
   "pygments_lexer": "ipython3",
   "version": "3.8.8"
  }
 },
 "nbformat": 4,
 "nbformat_minor": 4
}
